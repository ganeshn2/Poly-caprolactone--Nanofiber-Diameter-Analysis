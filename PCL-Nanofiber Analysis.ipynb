{
 "cells": [
  {
   "cell_type": "code",
   "execution_count": 2,
   "metadata": {},
   "outputs": [
    {
     "name": "stderr",
     "output_type": "stream",
     "text": [
      "\n",
      "Bad key \"text.kerning_factor\" on line 4 in\n",
      "/Users/ganeshnarayanan/opt/anaconda3/lib/python3.7/site-packages/matplotlib/mpl-data/stylelib/_classic_test_patch.mplstyle.\n",
      "You probably need to get an updated matplotlibrc file from\n",
      "https://github.com/matplotlib/matplotlib/blob/v3.1.3/matplotlibrc.template\n",
      "or from the matplotlib source distribution\n",
      "/Users/ganeshnarayanan/opt/anaconda3/lib/python3.7/site-packages/statsmodels/tools/_testing.py:19: FutureWarning: pandas.util.testing is deprecated. Use the functions in the public API at pandas.testing instead.\n",
      "  import pandas.util.testing as tm\n"
     ]
    }
   ],
   "source": [
    "import pandas as pd\n",
    "import numpy as np\n",
    "import matplotlib.pyplot as plt\n",
    "import seaborn as sns\n",
    "%matplotlib inline"
   ]
  },
  {
   "cell_type": "code",
   "execution_count": 3,
   "metadata": {},
   "outputs": [],
   "source": [
    "from openpyxl import Workbook\n"
   ]
  },
  {
   "cell_type": "code",
   "execution_count": 5,
   "metadata": {},
   "outputs": [],
   "source": [
    "PCL_Bill = pd.read_excel('PCL all people analyse results.xlsx',sheet_name = 'Analyst-I')\n",
    "PCL_Chenxue = pd.read_excel('PCL all people analyse results.xlsx',sheet_name = 'Analyst-II')\n",
    "PCL_Ganesh =  pd.read_excel('PCL all people analyse results.xlsx',sheet_name = 'Ganesh')\n",
    "PCL_Jingling = pd.read_excel('PCL all people analyse results.xlsx',sheet_name = 'Analyst-IV')\n",
    "PCL_Ju = pd.read_excel('PCL all people analyse results.xlsx',sheet_name = 'Analyst-V')\n",
    "PCL_Ramya = pd.read_excel('PCL all people analyse results.xlsx',sheet_name = 'Analyst-VI')\n",
    "PCL_Subramaniam = pd.read_excel('PCL all people analyse results.xlsx',sheet_name = 'Analyst-VII')\n",
    "PCL_Thomas = pd.read_excel('PCL all people analyse results.xlsx',sheet_name = 'Analyst-VIII')\n",
    "PCL_Wei = pd.read_excel('PCL all people analyse results.xlsx',sheet_name = 'Analyst-IX')\n",
    "PCL_Weiw = pd.read_excel('PCL all people analyse results.xlsx',sheet_name = 'Analyst-X')\n",
    "PCL_Xinyue = pd.read_excel('PCL all people analyse results.xlsx',sheet_name = 'Analyst-XI')\n",
    "PCL_Yavuz = pd.read_excel('PCL all people analyse results.xlsx',sheet_name = 'Analyst-XII')\n",
    "PCL_Ying = pd.read_excel('PCL all people analyse results.xlsx',sheet_name = 'Analyst-XIII')\n"
   ]
  },
  {
   "cell_type": "code",
   "execution_count": 6,
   "metadata": {},
   "outputs": [
    {
     "name": "stdout",
     "output_type": "stream",
     "text": [
      "    Unnamed: 0       E1       E2       NE       NW       SE       SW\n",
      "0            1  422.284  669.825  396.488  290.004  562.172  564.333\n",
      "1            2  320.274  280.359  241.356  323.937  470.497  262.618\n",
      "2            3  675.327  268.733  417.085  477.900  338.199  399.043\n",
      "3            4  397.251  239.697  254.237  279.159  637.838  300.445\n",
      "4            5  303.839  196.729  300.287  351.359  250.289  356.062\n",
      "..         ...      ...      ...      ...      ...      ...      ...\n",
      "95          96  564.600  294.171  252.663  168.963  447.494  384.810\n",
      "96          97  402.186  363.714  225.989  439.198  291.232  427.274\n",
      "97          98  586.534  363.714  384.222   78.566  184.764  327.886\n",
      "98          99  112.360  226.772  232.944  200.305  382.629  180.155\n",
      "99         100  163.791  357.320  294.924  161.968  413.145  343.004\n",
      "\n",
      "[100 rows x 7 columns]\n"
     ]
    }
   ],
   "source": [
    "print(PCL_Chenxue)"
   ]
  },
  {
   "cell_type": "code",
   "execution_count": 307,
   "metadata": {},
   "outputs": [],
   "source": [
    "PCL_E1 =pd.concat([PCL_Chenxue[['E1']],PCL_Ganesh[['E1']],\n",
    "                  PCL_Jingling[['E1']],PCL_Thomas[['E1']],\n",
    "                               PCL_Weiw[['E1']],PCL_Xinyue[['E1']]], axis =0)\n",
    "\n"
   ]
  },
  {
   "cell_type": "code",
   "execution_count": 308,
   "metadata": {},
   "outputs": [],
   "source": [
    "PCL_E1.reset_index(drop=True, inplace=True)\n",
    "PCL_E1=PCL_E1[['E1']]\n",
    "\n"
   ]
  },
  {
   "cell_type": "code",
   "execution_count": 309,
   "metadata": {},
   "outputs": [],
   "source": [
    "PCL_E2 =pd.concat([PCL_Bill[['E2']],PCL_Chenxue[['E2']],PCL_Ganesh[['E2']],\n",
    "                  PCL_Jingling[['E2']],PCL_Thomas[['E2']],PCL_Weiw[['E2']]], axis =0)\n"
   ]
  },
  {
   "cell_type": "code",
   "execution_count": 310,
   "metadata": {},
   "outputs": [],
   "source": [
    "PCL_E2.reset_index(drop=True, inplace=True)\n",
    "PCL_E2=PCL_E2[['E2']]\n",
    "\n"
   ]
  },
  {
   "cell_type": "code",
   "execution_count": 311,
   "metadata": {},
   "outputs": [],
   "source": [
    "PCL_W1 = pd.concat([PCL_Ganesh[['W1']],PCL_Jingling[['W1']],PCL_Ramya[['W1']],PCL_Thomas[['W1']],\n",
    "                    PCL_Weiw[['W1']],PCL_Xinyue[['W1']]], axis =0)"
   ]
  },
  {
   "cell_type": "code",
   "execution_count": 312,
   "metadata": {},
   "outputs": [],
   "source": [
    "PCL_W1.reset_index(drop=True, inplace=True)\n",
    "PCL_W1=PCL_W1[['W1']]\n",
    "\n"
   ]
  },
  {
   "cell_type": "code",
   "execution_count": 313,
   "metadata": {},
   "outputs": [],
   "source": [
    "PCL_W2 = pd.concat([PCL_Ganesh[['W2']],PCL_Jingling[['W2']],PCL_Ramya[['W2']],PCL_Thomas[['W2']],\n",
    "                   PCL_Xinyue[['W2']],PCL_Ying[['W2']]], axis =0)"
   ]
  },
  {
   "cell_type": "code",
   "execution_count": 314,
   "metadata": {},
   "outputs": [],
   "source": [
    "PCL_W2.reset_index(drop=True, inplace=True)\n",
    "PCL_W2=PCL_W2[['W2']]"
   ]
  },
  {
   "cell_type": "code",
   "execution_count": 315,
   "metadata": {},
   "outputs": [],
   "source": [
    "PCL_N1 = pd.concat([PCL_Ju[['N1']],PCL_Ramya[['N1']],PCL_Subramaniam[['N1']],\n",
    "                    PCL_Wei[['N1']],PCL_Yavuz[['N1']],PCL_Ying[['N1']]], axis =0)"
   ]
  },
  {
   "cell_type": "code",
   "execution_count": 316,
   "metadata": {},
   "outputs": [],
   "source": [
    "PCL_N1.reset_index(drop=True, inplace=True)\n",
    "PCL_N1=PCL_N1[['N1']]"
   ]
  },
  {
   "cell_type": "code",
   "execution_count": 324,
   "metadata": {},
   "outputs": [],
   "source": [
    "PCL_N2 = pd.concat([PCL_Bill[['N2']],PCL_Ju[['N2']],PCL_Subramaniam[['N2']],\n",
    "                    PCL_Wei[['N2']],PCL_Yavuz[['N2']],PCL_Ying[['N2']]], axis =0)"
   ]
  },
  {
   "cell_type": "code",
   "execution_count": 328,
   "metadata": {},
   "outputs": [],
   "source": [
    "PCL_N2.reset_index(drop=True, inplace=True)\n",
    "PCL_N2=PCL_N2[['N2']]\n"
   ]
  },
  {
   "cell_type": "code",
   "execution_count": 299,
   "metadata": {},
   "outputs": [],
   "source": [
    "PCL_S1 = pd.concat([PCL_Ganesh[['S1']],PCL_Ramya[['S1']],PCL_Subramaniam[['S1']],\n",
    "                    PCL_Wei[['S1']],PCL_Ying[['S1']],PCL_Xinyue[['S1']]], axis =0)"
   ]
  },
  {
   "cell_type": "code",
   "execution_count": 329,
   "metadata": {},
   "outputs": [],
   "source": [
    "PCL_S1.reset_index(drop=True, inplace=True)\n",
    "PCL_S1=PCL_S1[['S1']]"
   ]
  },
  {
   "cell_type": "code",
   "execution_count": 297,
   "metadata": {},
   "outputs": [],
   "source": [
    "PCL_S2 = pd.concat([PCL_Ganesh[['S2']],PCL_Jingling[['S2']],PCL_Subramaniam[['S2']],\n",
    "                    PCL_Ramya[['S2']],PCL_Ying[['S2']]], axis =0)"
   ]
  },
  {
   "cell_type": "code",
   "execution_count": 330,
   "metadata": {},
   "outputs": [],
   "source": [
    "PCL_S2.reset_index(drop=True, inplace=True)\n",
    "PCL_S2=PCL_S2[['S2']]"
   ]
  },
  {
   "cell_type": "code",
   "execution_count": 295,
   "metadata": {},
   "outputs": [],
   "source": [
    "PCL_Central = pd.concat([PCL_Ju[['Central']],PCL_Subramaniam[['Central']],PCL_Wei[['Central']],\n",
    "                         PCL_Xinyue[['Central']],PCL_Ying[['Central']]], axis =0)"
   ]
  },
  {
   "cell_type": "code",
   "execution_count": 331,
   "metadata": {},
   "outputs": [],
   "source": [
    "PCL_Central.reset_index(drop=True, inplace=True)\n",
    "PCL_Central=PCL_Central[['Central']]"
   ]
  },
  {
   "cell_type": "code",
   "execution_count": 293,
   "metadata": {},
   "outputs": [],
   "source": [
    "PCL_NE = pd.concat([PCL_Bill[['NE']],PCL_Chenxue[['NE']],PCL_Jingling[['NE']],\n",
    "                    PCL_Thomas[['NE']],PCL_Weiw[['NE']],PCL_Yavuz[['NE']]],axis =0)"
   ]
  },
  {
   "cell_type": "code",
   "execution_count": 332,
   "metadata": {},
   "outputs": [],
   "source": [
    "PCL_NE.reset_index(drop=True, inplace=True)\n",
    "PCL_NE=PCL_NE[['NE']]"
   ]
  },
  {
   "cell_type": "code",
   "execution_count": 291,
   "metadata": {},
   "outputs": [],
   "source": [
    "PCL_NW = pd.concat([PCL_Bill[['NW']],PCL_Chenxue[['NW']],PCL_Ju[['NW']],PCL_Subramaniam[['NW']],\n",
    "                    PCL_Wei[['NW']],PCL_Yavuz[['NW']]],axis =0)"
   ]
  },
  {
   "cell_type": "code",
   "execution_count": 333,
   "metadata": {},
   "outputs": [],
   "source": [
    "PCL_NW.reset_index(drop=True, inplace=True)\n",
    "PCL_NW=PCL_NW[['NW']]"
   ]
  },
  {
   "cell_type": "code",
   "execution_count": 284,
   "metadata": {},
   "outputs": [],
   "source": [
    "PCL_SE = pd.concat([PCL_Bill[['SE']],PCL_Chenxue[['SE']],PCL_Ju[['SE']],\n",
    "                    PCL_Thomas[['SE']],PCL_Weiw[['SE']],PCL_Yavuz[['SE']]],axis =0)"
   ]
  },
  {
   "cell_type": "code",
   "execution_count": 334,
   "metadata": {},
   "outputs": [],
   "source": [
    "PCL_SE.reset_index(drop=True, inplace=True)\n",
    "PCL_SE=PCL_SE[['SE']]"
   ]
  },
  {
   "cell_type": "code",
   "execution_count": 288,
   "metadata": {},
   "outputs": [],
   "source": [
    "PCL_SW = pd.concat([PCL_Bill[['SW']],PCL_Chenxue[['SW']],PCL_Ju[['SW']],\n",
    "                   PCL_Wei[['SW']],PCL_Weiw[['SW']],PCL_Yavuz[['SW']]],axis =0)"
   ]
  },
  {
   "cell_type": "code",
   "execution_count": 335,
   "metadata": {},
   "outputs": [],
   "source": [
    "PCL_SW.reset_index(drop=True, inplace=True)\n",
    "PCL_SW=PCL_SW[['SW']]"
   ]
  },
  {
   "cell_type": "code",
   "execution_count": 156,
   "metadata": {},
   "outputs": [],
   "source": [
    "#PCL_E1.to_csv('PCL_E1.csv')\n",
    "#PCL_E2.to_csv('PCL_E2.csv')\n",
    "#PCL_W1.to_csv('PCL_W1.csv')\n",
    "#PCL_W2.to_csv('PCL_W2.csv')\n",
    "#PCL_N1.to_csv('PCL_N1.csv')\n",
    "#PCL_N2.to_csv('PCL_N2.csv')\n",
    "#PCL_S1.to_csv('PCL_S1.csv')\n",
    "#PCL_S2.to_csv('PCL_S2.csv')\n",
    "#PCL_Central.to_csv('PCL_Central.csv')\n",
    "#PCL_NW.to_csv('PCL_NW.csv')\n",
    "#PCL_SE.to_csv('PCL_SE.csv')\n",
    "#PCL_SW.to_csv('PCL_SW.csv')"
   ]
  },
  {
   "cell_type": "code",
   "execution_count": 394,
   "metadata": {},
   "outputs": [],
   "source": [
    "PCL_nanofiber_diameter_consolidated = pd.concat([PCL_E1,PCL_E2,PCL_W1,PCL_W2,PCL_N1,PCL_N2,PCL_S1,PCL_S2,\n",
    "                                                 PCL_Central,PCL_NE,PCL_NW,PCL_SE,PCL_SW], axis =1)"
   ]
  },
  {
   "cell_type": "code",
   "execution_count": 341,
   "metadata": {},
   "outputs": [],
   "source": [
    "PCL_nanofiber_diameter_consolidated.to_csv('PCL_nanofiber_diameter_consolidated.csv')"
   ]
  },
  {
   "cell_type": "code",
   "execution_count": 360,
   "metadata": {},
   "outputs": [
    {
     "data": {
      "text/plain": [
       "<matplotlib.axes._subplots.AxesSubplot at 0x7fd870a9fb90>"
      ]
     },
     "execution_count": 360,
     "metadata": {},
     "output_type": "execute_result"
    },
    {
     "data": {
      "image/png": "[encoded data removed]",
      "text/plain": [
       "<Figure size 864x576 with 1 Axes>"
      ]
     },
     "metadata": {},
     "output_type": "display_data"
    }
   ],
   "source": [
    "sns.set(rc={'figure.figsize':(12,8)})\n",
    "sns.boxplot(data = PCL_nanofiber_diameter_consolidated, showmeans=True)"
   ]
  },
  {
   "cell_type": "code",
   "execution_count": 367,
   "metadata": {},
   "outputs": [
    {
     "data": {
      "text/plain": [
       "<matplotlib.axes._subplots.AxesSubplot at 0x7fd85a577d50>"
      ]
     },
     "execution_count": 367,
     "metadata": {},
     "output_type": "execute_result"
    },
    {
     "data": {
      "image/png": "[encoded data removed]",
      "text/plain": [
       "<Figure size 864x576 with 1 Axes>"
      ]
     },
     "metadata": {},
     "output_type": "display_data"
    }
   ],
   "source": [
    "sns.heatmap(PCL_nanofiber_diameter_consolidated.isnull(),cbar = False, cmap ='viridis',annot = True)"
   ]
  },
  {
   "cell_type": "code",
   "execution_count": 395,
   "metadata": {},
   "outputs": [
    {
     "data": {
      "text/plain": [
       "E1          36\n",
       "E2          36\n",
       "W1          57\n",
       "W2          47\n",
       "N1          29\n",
       "N2          10\n",
       "S1          54\n",
       "S2         151\n",
       "Central    108\n",
       "NE          55\n",
       "NW          12\n",
       "SE           0\n",
       "SW          48\n",
       "dtype: int64"
      ]
     },
     "execution_count": 395,
     "metadata": {},
     "output_type": "execute_result"
    }
   ],
   "source": [
    "PCL_nanofiber_diameter_consolidated.isnull().sum()"
   ]
  },
  {
   "cell_type": "code",
   "execution_count": 411,
   "metadata": {},
   "outputs": [],
   "source": [
    "PCL_for_Stats = PCL_nanofiber_diameter_consolidated.fillna(PCL_nanofiber_diameter_consolidated.mean())"
   ]
  },
  {
   "cell_type": "code",
   "execution_count": 409,
   "metadata": {},
   "outputs": [
    {
     "name": "stdout",
     "output_type": "stream",
     "text": [
      "Requirement already satisfied: statsmodels in /Users/ganeshnarayanan/opt/anaconda3/lib/python3.7/site-packages (0.10.1)\n",
      "Requirement already satisfied: numpy>=1.11 in /Users/ganeshnarayanan/opt/anaconda3/lib/python3.7/site-packages (from statsmodels) (1.17.2)\n",
      "Requirement already satisfied: pandas>=0.19 in /Users/ganeshnarayanan/opt/anaconda3/lib/python3.7/site-packages (from statsmodels) (1.1.4)\n",
      "Requirement already satisfied: scipy>=0.18 in /Users/ganeshnarayanan/opt/anaconda3/lib/python3.7/site-packages (from statsmodels) (1.5.4)\n",
      "Requirement already satisfied: patsy>=0.4.0 in /Users/ganeshnarayanan/opt/anaconda3/lib/python3.7/site-packages (from statsmodels) (0.5.1)\n",
      "Requirement already satisfied: python-dateutil>=2.7.3 in /Users/ganeshnarayanan/opt/anaconda3/lib/python3.7/site-packages (from pandas>=0.19->statsmodels) (2.8.0)\n",
      "Requirement already satisfied: pytz>=2017.2 in /Users/ganeshnarayanan/opt/anaconda3/lib/python3.7/site-packages (from pandas>=0.19->statsmodels) (2019.3)\n",
      "Requirement already satisfied: six in /Users/ganeshnarayanan/opt/anaconda3/lib/python3.7/site-packages (from patsy>=0.4.0->statsmodels) (1.12.0)\n"
     ]
    }
   ],
   "source": [
    "!pip install statsmodels"
   ]
  },
  {
   "cell_type": "code",
   "execution_count": 416,
   "metadata": {},
   "outputs": [],
   "source": [
    "import scipy.stats as stats\n",
    "from scipy import stats\n",
    "import statsmodels.api as sm\n",
    "from statsmodels.formula.api import ols\n",
    "import statsmodels.stats.multicomp\n",
    "\n",
    "from statsmodels.formula.api import ols\n",
    "from statsmodels.stats.anova import anova_lm"
   ]
  },
  {
   "cell_type": "markdown",
   "metadata": {},
   "source": [
    "One-way ANOVA was performed to checkif the overall model is significant\n"
   ]
  },
  {
   "cell_type": "code",
   "execution_count": 437,
   "metadata": {},
   "outputs": [
    {
     "name": "stdout",
     "output_type": "stream",
     "text": [
      "F-Statistic=25.657, p=0.000\n"
     ]
    }
   ],
   "source": [
    "F, p = stats.f_oneway(PCL_for_Stats['N1'],PCL_for_Stats['E1'],PCL_for_Stats['E2'],PCL_for_Stats['W1'],\n",
    "                     PCL_for_Stats['W2'],PCL_for_Stats['N2'],PCL_for_Stats['S1'],PCL_for_Stats['NE'],\n",
    "                      PCL_for_Stats['NW'],PCL_for_Stats['SE'],PCL_for_Stats['SW'])\n",
    "print('F-Statistic=%.3f, p=%.3f' % (F, p))"
   ]
  },
  {
   "cell_type": "code",
   "execution_count": 423,
   "metadata": {},
   "outputs": [],
   "source": [
    "PCL_for_Stats_1 = pd.melt(PCL_for_Stats.reset_index(), id_vars=['index'], value_vars=['E1', 'E2', 'W1', 'W2',\n",
    "                                                                                     'N1','N2','S1','NE','NW','SE','SW'])"
   ]
  },
  {
   "cell_type": "code",
   "execution_count": 425,
   "metadata": {},
   "outputs": [
    {
     "data": {
      "text/plain": [
       "Index(['index', 'variable', 'value'], dtype='object')"
      ]
     },
     "execution_count": 425,
     "metadata": {},
     "output_type": "execute_result"
    }
   ],
   "source": [
    "PCL_for_Stats_1.columns"
   ]
  },
  {
   "cell_type": "code",
   "execution_count": 426,
   "metadata": {},
   "outputs": [
    {
     "data": {
      "image/png": "[encoded data removed]",
      "text/plain": [
       "<Figure size 864x576 with 1 Axes>"
      ]
     },
     "metadata": {},
     "output_type": "display_data"
    }
   ],
   "source": [
    "ax = sns.boxplot(x='variable', y='value', data=PCL_for_Stats_1, color='#99c2a2')"
   ]
  },
  {
   "cell_type": "code",
   "execution_count": 441,
   "metadata": {},
   "outputs": [],
   "source": [
    "model = ols('value ~ C(variable)', data=PCL_for_Stats_1).fit()\n",
    "anova_table = sm.stats.anova_lm(model, typ=2)\n",
    "anova_table.to_csv('ANOVA_Table.csv')"
   ]
  },
  {
   "cell_type": "code",
   "execution_count": 432,
   "metadata": {},
   "outputs": [
    {
     "data": {
      "text/html": [
       "<div>\n",
       "<style scoped>\n",
       "    .dataframe tbody tr th:only-of-type {\n",
       "        vertical-align: middle;\n",
       "    }\n",
       "\n",
       "    .dataframe tbody tr th {\n",
       "        vertical-align: top;\n",
       "    }\n",
       "\n",
       "    .dataframe thead th {\n",
       "        text-align: right;\n",
       "    }\n",
       "</style>\n",
       "<table border=\"1\" class=\"dataframe\">\n",
       "  <thead>\n",
       "    <tr style=\"text-align: right;\">\n",
       "      <th></th>\n",
       "      <th>df</th>\n",
       "      <th>sum_sq</th>\n",
       "      <th>mean_sq</th>\n",
       "      <th>F</th>\n",
       "      <th>PR(&gt;F)</th>\n",
       "    </tr>\n",
       "  </thead>\n",
       "  <tbody>\n",
       "    <tr>\n",
       "      <th>C(variable)</th>\n",
       "      <td>10.0</td>\n",
       "      <td>7.191570e+06</td>\n",
       "      <td>719157.019824</td>\n",
       "      <td>25.657394</td>\n",
       "      <td>1.819585e-48</td>\n",
       "    </tr>\n",
       "    <tr>\n",
       "      <th>Residual</th>\n",
       "      <td>7216.0</td>\n",
       "      <td>2.022589e+08</td>\n",
       "      <td>28029.230537</td>\n",
       "      <td>NaN</td>\n",
       "      <td>NaN</td>\n",
       "    </tr>\n",
       "  </tbody>\n",
       "</table>\n",
       "</div>"
      ],
      "text/plain": [
       "                 df        sum_sq        mean_sq          F        PR(>F)\n",
       "C(variable)    10.0  7.191570e+06  719157.019824  25.657394  1.819585e-48\n",
       "Residual     7216.0  2.022589e+08   28029.230537        NaN           NaN"
      ]
     },
     "execution_count": 432,
     "metadata": {},
     "output_type": "execute_result"
    }
   ],
   "source": [
    "from bioinfokit.analys import stat\n",
    "res = stat()\n",
    "res.anova_stat(df=PCL_for_Stats_1, res_var='value', anova_model='value ~ C(variable)')\n",
    "res.anova_summary"
   ]
  },
  {
   "cell_type": "markdown",
   "metadata": {},
   "source": [
    "Multiple pairwise comparison (post hoc comparison) analysis using Tukey’s honestly significantly differenced (HSD) test."
   ]
  },
  {
   "cell_type": "code",
   "execution_count": 434,
   "metadata": {},
   "outputs": [],
   "source": [
    "res = stat()\n",
    "res.tukey_hsd(df=PCL_for_Stats_1, res_var='value', xfac_var='variable', anova_model='value ~ C(variable)')\n",
    "res.tukey_summary.to_csv('Tukey_Summary.csv')"
   ]
  },
  {
   "cell_type": "markdown",
   "metadata": {},
   "source": [
    "Test to measure homogenity of sample sizes to ensure normal distribution"
   ]
  },
  {
   "cell_type": "code",
   "execution_count": 444,
   "metadata": {},
   "outputs": [],
   "source": [
    "#import scipy.stats as stats\n",
    "#w, pvalue = stats.bartlett(PCL_for_Stats['N1'],PCL_for_Stats['E1'],PCL_for_Stats['E2'],PCL_for_Stats['W1'],\n",
    "                     #PCL_for_Stats['W2'],PCL_for_Stats['N2'],PCL_for_Stats['S1'],PCL_for_Stats['NE'],\n",
    "                      #PCL_for_Stats['NW'],PCL_for_Stats['SE'],PCL_for_Stats['SW'])\n",
    "#print(w, pvalue)\n"
   ]
  },
  {
   "cell_type": "code",
   "execution_count": null,
   "metadata": {},
   "outputs": [],
   "source": []
  }
 ],
 "metadata": {
  "kernelspec": {
   "display_name": "Python 3",
   "language": "python",
   "name": "python3"
  },
  "language_info": {
   "codemirror_mode": {
    "name": "ipython",
    "version": 3
   },
   "file_extension": ".py",
   "mimetype": "text/x-python",
   "name": "python",
   "nbconvert_exporter": "python",
   "pygments_lexer": "ipython3",
   "version": "3.7.4"
  }
 },
 "nbformat": 4,
 "nbformat_minor": 4
}
