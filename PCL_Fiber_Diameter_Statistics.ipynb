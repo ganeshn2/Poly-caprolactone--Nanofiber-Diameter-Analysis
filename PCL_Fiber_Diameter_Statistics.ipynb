{
 "cells": [
  {
   "cell_type": "code",
   "execution_count": 24,
   "metadata": {},
   "outputs": [],
   "source": [
    "import pandas as pd\n",
    "import numpy as np\n",
    "import scipy.stats as stats\n",
    "import matplotlib.pyplot as plt\n",
    "import seaborn as sns\n",
    "%matplotlib inline"
   ]
  },
  {
   "cell_type": "code",
   "execution_count": 25,
   "metadata": {},
   "outputs": [],
   "source": [
    "PCL_Bill = pd.read_excel('PCL all people analyse results.xlsx',sheet_name = 'Analyst-I')\n",
    "PCL_Chenxue = pd.read_excel('PCL all people analyse results.xlsx',sheet_name = 'Analyst-II')\n",
    "PCL_Ganesh =  pd.read_excel('PCL all people analyse results.xlsx',sheet_name = 'Ganesh')\n",
    "PCL_Jingling = pd.read_excel('PCL all people analyse results.xlsx',sheet_name = 'Analyst-IV')\n",
    "PCL_Ju = pd.read_excel('PCL all people analyse results.xlsx',sheet_name = 'Analyst-V')\n",
    "PCL_Ramya = pd.read_excel('PCL all people analyse results.xlsx',sheet_name = 'Analyst-VI')\n",
    "PCL_Subramaniam = pd.read_excel('PCL all people analyse results.xlsx',sheet_name = 'Analyst-VII')\n",
    "PCL_Thomas = pd.read_excel('PCL all people analyse results.xlsx',sheet_name = 'Analyst-VIII')\n",
    "PCL_Wei = pd.read_excel('PCL all people analyse results.xlsx',sheet_name = 'Analyst-IX')\n",
    "PCL_Weiw = pd.read_excel('PCL all people analyse results.xlsx',sheet_name = 'Analyst-X')\n",
    "PCL_Xinyue = pd.read_excel('PCL all people analyse results.xlsx',sheet_name = 'Analyst-XI')\n",
    "PCL_Yavuz = pd.read_excel('PCL all people analyse results.xlsx',sheet_name = 'Analyst-XII')\n",
    "PCL_Ying = pd.read_excel('PCL all people analyse results.xlsx',sheet_name = 'Analyst-XIII')\n"
   ]
  },
  {
   "cell_type": "code",
   "execution_count": 26,
   "metadata": {},
   "outputs": [],
   "source": [
    "PCL_Bill=pd.DataFrame(PCL_Bill[['E2', 'N2', 'NE', 'NW', 'SE', 'SW']])\n",
    "PCL_Chenxue=pd.DataFrame(PCL_Chenxue[['E1', 'E2', 'NE', 'NW', 'SE', 'SW']])\n",
    "PCL_Ganesh=pd.DataFrame(PCL_Ganesh[['E1', 'S1', 'E2', 'S2', 'W1', 'W2']])\n",
    "PCL_Jingling=pd.DataFrame(PCL_Jingling[['E1', 'E2', 'NE', 'S2', 'W1', 'W2']])\n",
    "PCL_Ju=pd.DataFrame(PCL_Ju[['Central', 'N1', 'N2', 'NW', 'SE', 'SW']])\n",
    "PCL_Ramya=pd.DataFrame(PCL_Ramya[['Central ', 'N1', 'S2', 'S1', 'W1', 'W2']])\n",
    "PCL_Subramaniam=pd.DataFrame(PCL_Subramaniam[['Central', 'N1', 'N2', 'NW', 'S2', 'S1']])\n",
    "PCL_Thomas=pd.DataFrame(PCL_Thomas[['E1', 'E2', 'NE', 'SE', 'W1', 'W2']])\n",
    "PCL_Wei=pd.DataFrame(PCL_Wei[['Central', 'N1', 'N2', 'NW', 'S1', 'SW']])\n",
    "PCL_Weiw=pd.DataFrame(PCL_Weiw[['E1', 'E2', 'NE', 'SE', 'SW', 'W1']])\n",
    "PCL_Xinyue=pd.DataFrame(PCL_Xinyue[['Central', 'E1', 'S1', 'W1', 'W2']])\n",
    "PCL_Yavuz=pd.DataFrame(PCL_Yavuz[['N1', 'N2', 'NE', 'NW', 'SE', 'SW']])\n",
    "PCL_Ying=pd.DataFrame(PCL_Ying[['Central', 'N1', 'N2', 'S2', 'S1', 'W2']])"
   ]
  },
  {
   "cell_type": "code",
   "execution_count": 27,
   "metadata": {},
   "outputs": [
    {
     "data": {
      "text/html": [
       "<div>\n",
       "<style scoped>\n",
       "    .dataframe tbody tr th:only-of-type {\n",
       "        vertical-align: middle;\n",
       "    }\n",
       "\n",
       "    .dataframe tbody tr th {\n",
       "        vertical-align: top;\n",
       "    }\n",
       "\n",
       "    .dataframe thead th {\n",
       "        text-align: right;\n",
       "    }\n",
       "</style>\n",
       "<table border=\"1\" class=\"dataframe\">\n",
       "  <thead>\n",
       "    <tr style=\"text-align: right;\">\n",
       "      <th></th>\n",
       "      <th>Name</th>\n",
       "      <th>Location</th>\n",
       "      <th>Diameter</th>\n",
       "    </tr>\n",
       "  </thead>\n",
       "  <tbody>\n",
       "    <tr>\n",
       "      <th>0</th>\n",
       "      <td>01</td>\n",
       "      <td>E2</td>\n",
       "      <td>186.0</td>\n",
       "    </tr>\n",
       "    <tr>\n",
       "      <th>1</th>\n",
       "      <td>01</td>\n",
       "      <td>E2</td>\n",
       "      <td>228.0</td>\n",
       "    </tr>\n",
       "    <tr>\n",
       "      <th>2</th>\n",
       "      <td>01</td>\n",
       "      <td>E2</td>\n",
       "      <td>216.0</td>\n",
       "    </tr>\n",
       "    <tr>\n",
       "      <th>3</th>\n",
       "      <td>01</td>\n",
       "      <td>E2</td>\n",
       "      <td>207.0</td>\n",
       "    </tr>\n",
       "    <tr>\n",
       "      <th>4</th>\n",
       "      <td>01</td>\n",
       "      <td>E2</td>\n",
       "      <td>188.0</td>\n",
       "    </tr>\n",
       "  </tbody>\n",
       "</table>\n",
       "</div>"
      ],
      "text/plain": [
       "  Name Location  Diameter\n",
       "0   01       E2     186.0\n",
       "1   01       E2     228.0\n",
       "2   01       E2     216.0\n",
       "3   01       E2     207.0\n",
       "4   01       E2     188.0"
      ]
     },
     "execution_count": 27,
     "metadata": {},
     "output_type": "execute_result"
    }
   ],
   "source": [
    "PCL_Bill_mf = pd.melt(PCL_Bill, value_vars=['E2', 'N2', 'NE', 'NW', 'SE', 'SW']).round(2)\n",
    "PCL_Bill_mf.rename(columns={\"variable\" : \"Location\",\"value\":\"Diameter\"},inplace=True)\n",
    "PCL_Bill_mf.insert(0, 'Name', '01')\n",
    "PCL_Bill_mf.head()"
   ]
  },
  {
   "cell_type": "code",
   "execution_count": 28,
   "metadata": {},
   "outputs": [
    {
     "data": {
      "text/html": [
       "<div>\n",
       "<style scoped>\n",
       "    .dataframe tbody tr th:only-of-type {\n",
       "        vertical-align: middle;\n",
       "    }\n",
       "\n",
       "    .dataframe tbody tr th {\n",
       "        vertical-align: top;\n",
       "    }\n",
       "\n",
       "    .dataframe thead th {\n",
       "        text-align: right;\n",
       "    }\n",
       "</style>\n",
       "<table border=\"1\" class=\"dataframe\">\n",
       "  <thead>\n",
       "    <tr style=\"text-align: right;\">\n",
       "      <th></th>\n",
       "      <th>Name</th>\n",
       "      <th>Location</th>\n",
       "      <th>Diameter</th>\n",
       "    </tr>\n",
       "  </thead>\n",
       "  <tbody>\n",
       "    <tr>\n",
       "      <th>0</th>\n",
       "      <td>02</td>\n",
       "      <td>E1</td>\n",
       "      <td>422.28</td>\n",
       "    </tr>\n",
       "    <tr>\n",
       "      <th>1</th>\n",
       "      <td>02</td>\n",
       "      <td>E1</td>\n",
       "      <td>320.27</td>\n",
       "    </tr>\n",
       "    <tr>\n",
       "      <th>2</th>\n",
       "      <td>02</td>\n",
       "      <td>E1</td>\n",
       "      <td>675.33</td>\n",
       "    </tr>\n",
       "    <tr>\n",
       "      <th>3</th>\n",
       "      <td>02</td>\n",
       "      <td>E1</td>\n",
       "      <td>397.25</td>\n",
       "    </tr>\n",
       "    <tr>\n",
       "      <th>4</th>\n",
       "      <td>02</td>\n",
       "      <td>E1</td>\n",
       "      <td>303.84</td>\n",
       "    </tr>\n",
       "  </tbody>\n",
       "</table>\n",
       "</div>"
      ],
      "text/plain": [
       "  Name Location  Diameter\n",
       "0   02       E1    422.28\n",
       "1   02       E1    320.27\n",
       "2   02       E1    675.33\n",
       "3   02       E1    397.25\n",
       "4   02       E1    303.84"
      ]
     },
     "execution_count": 28,
     "metadata": {},
     "output_type": "execute_result"
    }
   ],
   "source": [
    "PCL_Chenxue_mf=pd.melt(PCL_Chenxue, value_vars=['E1', 'E2', 'NE', 'NW', 'SE', 'SW']).round(2)\n",
    "PCL_Chenxue_mf.rename(columns={\"variable\" : \"Location\",\"value\":\"Diameter\"},inplace=True)\n",
    "PCL_Chenxue_mf.insert(0, 'Name', '02')\n",
    "PCL_Chenxue_mf.head()"
   ]
  },
  {
   "cell_type": "code",
   "execution_count": 29,
   "metadata": {},
   "outputs": [
    {
     "data": {
      "text/html": [
       "<div>\n",
       "<style scoped>\n",
       "    .dataframe tbody tr th:only-of-type {\n",
       "        vertical-align: middle;\n",
       "    }\n",
       "\n",
       "    .dataframe tbody tr th {\n",
       "        vertical-align: top;\n",
       "    }\n",
       "\n",
       "    .dataframe thead th {\n",
       "        text-align: right;\n",
       "    }\n",
       "</style>\n",
       "<table border=\"1\" class=\"dataframe\">\n",
       "  <thead>\n",
       "    <tr style=\"text-align: right;\">\n",
       "      <th></th>\n",
       "      <th>Name</th>\n",
       "      <th>Location</th>\n",
       "      <th>Diameter</th>\n",
       "    </tr>\n",
       "  </thead>\n",
       "  <tbody>\n",
       "    <tr>\n",
       "      <th>0</th>\n",
       "      <td>03</td>\n",
       "      <td>E1</td>\n",
       "      <td>233.53</td>\n",
       "    </tr>\n",
       "    <tr>\n",
       "      <th>1</th>\n",
       "      <td>03</td>\n",
       "      <td>E1</td>\n",
       "      <td>215.31</td>\n",
       "    </tr>\n",
       "    <tr>\n",
       "      <th>2</th>\n",
       "      <td>03</td>\n",
       "      <td>E1</td>\n",
       "      <td>369.25</td>\n",
       "    </tr>\n",
       "    <tr>\n",
       "      <th>3</th>\n",
       "      <td>03</td>\n",
       "      <td>E1</td>\n",
       "      <td>472.87</td>\n",
       "    </tr>\n",
       "    <tr>\n",
       "      <th>4</th>\n",
       "      <td>03</td>\n",
       "      <td>E1</td>\n",
       "      <td>266.27</td>\n",
       "    </tr>\n",
       "  </tbody>\n",
       "</table>\n",
       "</div>"
      ],
      "text/plain": [
       "  Name Location  Diameter\n",
       "0   03       E1    233.53\n",
       "1   03       E1    215.31\n",
       "2   03       E1    369.25\n",
       "3   03       E1    472.87\n",
       "4   03       E1    266.27"
      ]
     },
     "execution_count": 29,
     "metadata": {},
     "output_type": "execute_result"
    }
   ],
   "source": [
    "PCL_Ganesh_mf=pd.melt(PCL_Ganesh, value_vars=['E1', 'S1', 'E2', 'S2', 'W1', 'W2']).round(2)\n",
    "PCL_Ganesh_mf.rename(columns={\"variable\" : \"Location\",\"value\":\"Diameter\"},inplace=True)\n",
    "PCL_Ganesh_mf.insert(0, 'Name', '03')\n",
    "PCL_Ganesh_mf=PCL_Ganesh_mf.dropna(axis=0)\n",
    "PCL_Ganesh_mf.head()"
   ]
  },
  {
   "cell_type": "code",
   "execution_count": 30,
   "metadata": {},
   "outputs": [
    {
     "data": {
      "text/html": [
       "<div>\n",
       "<style scoped>\n",
       "    .dataframe tbody tr th:only-of-type {\n",
       "        vertical-align: middle;\n",
       "    }\n",
       "\n",
       "    .dataframe tbody tr th {\n",
       "        vertical-align: top;\n",
       "    }\n",
       "\n",
       "    .dataframe thead th {\n",
       "        text-align: right;\n",
       "    }\n",
       "</style>\n",
       "<table border=\"1\" class=\"dataframe\">\n",
       "  <thead>\n",
       "    <tr style=\"text-align: right;\">\n",
       "      <th></th>\n",
       "      <th>Name</th>\n",
       "      <th>Location</th>\n",
       "      <th>Diameter</th>\n",
       "    </tr>\n",
       "  </thead>\n",
       "  <tbody>\n",
       "    <tr>\n",
       "      <th>611</th>\n",
       "      <td>04</td>\n",
       "      <td>W2</td>\n",
       "      <td>604.0</td>\n",
       "    </tr>\n",
       "    <tr>\n",
       "      <th>612</th>\n",
       "      <td>04</td>\n",
       "      <td>W2</td>\n",
       "      <td>463.0</td>\n",
       "    </tr>\n",
       "    <tr>\n",
       "      <th>613</th>\n",
       "      <td>04</td>\n",
       "      <td>W2</td>\n",
       "      <td>560.0</td>\n",
       "    </tr>\n",
       "    <tr>\n",
       "      <th>614</th>\n",
       "      <td>04</td>\n",
       "      <td>W2</td>\n",
       "      <td>472.0</td>\n",
       "    </tr>\n",
       "    <tr>\n",
       "      <th>615</th>\n",
       "      <td>04</td>\n",
       "      <td>W2</td>\n",
       "      <td>499.0</td>\n",
       "    </tr>\n",
       "  </tbody>\n",
       "</table>\n",
       "</div>"
      ],
      "text/plain": [
       "    Name Location  Diameter\n",
       "611   04       W2     604.0\n",
       "612   04       W2     463.0\n",
       "613   04       W2     560.0\n",
       "614   04       W2     472.0\n",
       "615   04       W2     499.0"
      ]
     },
     "execution_count": 30,
     "metadata": {},
     "output_type": "execute_result"
    }
   ],
   "source": [
    "PCL_Jingling_mf=pd.melt(PCL_Jingling, value_vars=['E1', 'E2', 'NE', 'S2', 'W1', 'W2']).round(2)\n",
    "PCL_Jingling_mf.rename(columns={\"variable\" : \"Location\",\"value\":\"Diameter\"},inplace=True)\n",
    "PCL_Jingling_mf.insert(0, 'Name', '04')\n",
    "PCL_Jingling_mf=PCL_Jingling_mf.dropna(axis=0)\n",
    "PCL_Jingling_mf.tail()"
   ]
  },
  {
   "cell_type": "code",
   "execution_count": 31,
   "metadata": {},
   "outputs": [
    {
     "data": {
      "text/html": [
       "<div>\n",
       "<style scoped>\n",
       "    .dataframe tbody tr th:only-of-type {\n",
       "        vertical-align: middle;\n",
       "    }\n",
       "\n",
       "    .dataframe tbody tr th {\n",
       "        vertical-align: top;\n",
       "    }\n",
       "\n",
       "    .dataframe thead th {\n",
       "        text-align: right;\n",
       "    }\n",
       "</style>\n",
       "<table border=\"1\" class=\"dataframe\">\n",
       "  <thead>\n",
       "    <tr style=\"text-align: right;\">\n",
       "      <th></th>\n",
       "      <th>Name</th>\n",
       "      <th>Location</th>\n",
       "      <th>Diameter</th>\n",
       "    </tr>\n",
       "  </thead>\n",
       "  <tbody>\n",
       "    <tr>\n",
       "      <th>0</th>\n",
       "      <td>05</td>\n",
       "      <td>Central</td>\n",
       "      <td>1255.66</td>\n",
       "    </tr>\n",
       "    <tr>\n",
       "      <th>1</th>\n",
       "      <td>05</td>\n",
       "      <td>Central</td>\n",
       "      <td>423.73</td>\n",
       "    </tr>\n",
       "    <tr>\n",
       "      <th>2</th>\n",
       "      <td>05</td>\n",
       "      <td>Central</td>\n",
       "      <td>272.66</td>\n",
       "    </tr>\n",
       "    <tr>\n",
       "      <th>3</th>\n",
       "      <td>05</td>\n",
       "      <td>Central</td>\n",
       "      <td>398.13</td>\n",
       "    </tr>\n",
       "    <tr>\n",
       "      <th>4</th>\n",
       "      <td>05</td>\n",
       "      <td>Central</td>\n",
       "      <td>320.00</td>\n",
       "    </tr>\n",
       "  </tbody>\n",
       "</table>\n",
       "</div>"
      ],
      "text/plain": [
       "  Name Location  Diameter\n",
       "0   05  Central   1255.66\n",
       "1   05  Central    423.73\n",
       "2   05  Central    272.66\n",
       "3   05  Central    398.13\n",
       "4   05  Central    320.00"
      ]
     },
     "execution_count": 31,
     "metadata": {},
     "output_type": "execute_result"
    }
   ],
   "source": [
    "PCL_Ju_mf=pd.melt(PCL_Ju, value_vars=['Central', 'N1', 'N2', 'NW', 'SE', 'SW']).round(2)\n",
    "PCL_Ju_mf.rename(columns={\"variable\" : \"Location\",\"value\":\"Diameter\"},inplace=True)\n",
    "PCL_Ju_mf.insert(0, 'Name', '05')\n",
    "PCL_Ju_mf=PCL_Ju_mf.dropna(axis=0)\n",
    "PCL_Ju_mf.head()\n"
   ]
  },
  {
   "cell_type": "code",
   "execution_count": 32,
   "metadata": {},
   "outputs": [
    {
     "data": {
      "text/html": [
       "<div>\n",
       "<style scoped>\n",
       "    .dataframe tbody tr th:only-of-type {\n",
       "        vertical-align: middle;\n",
       "    }\n",
       "\n",
       "    .dataframe tbody tr th {\n",
       "        vertical-align: top;\n",
       "    }\n",
       "\n",
       "    .dataframe thead th {\n",
       "        text-align: right;\n",
       "    }\n",
       "</style>\n",
       "<table border=\"1\" class=\"dataframe\">\n",
       "  <thead>\n",
       "    <tr style=\"text-align: right;\">\n",
       "      <th></th>\n",
       "      <th>Name</th>\n",
       "      <th>Location</th>\n",
       "      <th>Diameter</th>\n",
       "    </tr>\n",
       "  </thead>\n",
       "  <tbody>\n",
       "    <tr>\n",
       "      <th>0</th>\n",
       "      <td>06</td>\n",
       "      <td>Central</td>\n",
       "      <td>343.0</td>\n",
       "    </tr>\n",
       "    <tr>\n",
       "      <th>1</th>\n",
       "      <td>06</td>\n",
       "      <td>Central</td>\n",
       "      <td>439.0</td>\n",
       "    </tr>\n",
       "    <tr>\n",
       "      <th>2</th>\n",
       "      <td>06</td>\n",
       "      <td>Central</td>\n",
       "      <td>281.0</td>\n",
       "    </tr>\n",
       "    <tr>\n",
       "      <th>3</th>\n",
       "      <td>06</td>\n",
       "      <td>Central</td>\n",
       "      <td>478.0</td>\n",
       "    </tr>\n",
       "    <tr>\n",
       "      <th>4</th>\n",
       "      <td>06</td>\n",
       "      <td>Central</td>\n",
       "      <td>397.0</td>\n",
       "    </tr>\n",
       "  </tbody>\n",
       "</table>\n",
       "</div>"
      ],
      "text/plain": [
       "  Name  Location  Diameter\n",
       "0   06  Central      343.0\n",
       "1   06  Central      439.0\n",
       "2   06  Central      281.0\n",
       "3   06  Central      478.0\n",
       "4   06  Central      397.0"
      ]
     },
     "execution_count": 32,
     "metadata": {},
     "output_type": "execute_result"
    }
   ],
   "source": [
    "PCL_Ramya_mf=pd.melt(PCL_Ramya,value_vars=['Central ', 'N1', 'S2', 'S1', 'W1', 'W2']).round()\n",
    "PCL_Ramya_mf.rename(columns={\"variable\" : \"Location\",\"value\":\"Diameter\"},inplace=True)\n",
    "PCL_Ramya_mf.insert(0, 'Name', '06')\n",
    "PCL_Ramya_mf.head()"
   ]
  },
  {
   "cell_type": "code",
   "execution_count": 33,
   "metadata": {},
   "outputs": [
    {
     "data": {
      "text/html": [
       "<div>\n",
       "<style scoped>\n",
       "    .dataframe tbody tr th:only-of-type {\n",
       "        vertical-align: middle;\n",
       "    }\n",
       "\n",
       "    .dataframe tbody tr th {\n",
       "        vertical-align: top;\n",
       "    }\n",
       "\n",
       "    .dataframe thead th {\n",
       "        text-align: right;\n",
       "    }\n",
       "</style>\n",
       "<table border=\"1\" class=\"dataframe\">\n",
       "  <thead>\n",
       "    <tr style=\"text-align: right;\">\n",
       "      <th></th>\n",
       "      <th>Name</th>\n",
       "      <th>Location</th>\n",
       "      <th>Diameter</th>\n",
       "    </tr>\n",
       "  </thead>\n",
       "  <tbody>\n",
       "    <tr>\n",
       "      <th>0</th>\n",
       "      <td>06</td>\n",
       "      <td>Central</td>\n",
       "      <td>343.0</td>\n",
       "    </tr>\n",
       "    <tr>\n",
       "      <th>1</th>\n",
       "      <td>06</td>\n",
       "      <td>Central</td>\n",
       "      <td>439.0</td>\n",
       "    </tr>\n",
       "    <tr>\n",
       "      <th>2</th>\n",
       "      <td>06</td>\n",
       "      <td>Central</td>\n",
       "      <td>281.0</td>\n",
       "    </tr>\n",
       "    <tr>\n",
       "      <th>3</th>\n",
       "      <td>06</td>\n",
       "      <td>Central</td>\n",
       "      <td>478.0</td>\n",
       "    </tr>\n",
       "    <tr>\n",
       "      <th>4</th>\n",
       "      <td>06</td>\n",
       "      <td>Central</td>\n",
       "      <td>397.0</td>\n",
       "    </tr>\n",
       "  </tbody>\n",
       "</table>\n",
       "</div>"
      ],
      "text/plain": [
       "  Name  Location  Diameter\n",
       "0   06  Central      343.0\n",
       "1   06  Central      439.0\n",
       "2   06  Central      281.0\n",
       "3   06  Central      478.0\n",
       "4   06  Central      397.0"
      ]
     },
     "execution_count": 33,
     "metadata": {},
     "output_type": "execute_result"
    }
   ],
   "source": [
    "PCL_Subramaniam_mf=pd.melt(PCL_Subramaniam,value_vars=['Central', 'N1', 'N2', 'NW', 'S2', 'S1']).round()\n",
    "PCL_Subramaniam_mf.rename(columns={\"variable\" : \"Location\",\"value\":\"Diameter\"},inplace=True)\n",
    "PCL_Subramaniam_mf.insert(0, 'Name', '07')\n",
    "PCL_Ramya_mf.head()\n"
   ]
  },
  {
   "cell_type": "code",
   "execution_count": 34,
   "metadata": {},
   "outputs": [
    {
     "data": {
      "text/html": [
       "<div>\n",
       "<style scoped>\n",
       "    .dataframe tbody tr th:only-of-type {\n",
       "        vertical-align: middle;\n",
       "    }\n",
       "\n",
       "    .dataframe tbody tr th {\n",
       "        vertical-align: top;\n",
       "    }\n",
       "\n",
       "    .dataframe thead th {\n",
       "        text-align: right;\n",
       "    }\n",
       "</style>\n",
       "<table border=\"1\" class=\"dataframe\">\n",
       "  <thead>\n",
       "    <tr style=\"text-align: right;\">\n",
       "      <th></th>\n",
       "      <th>Name</th>\n",
       "      <th>Location</th>\n",
       "      <th>Diameter</th>\n",
       "    </tr>\n",
       "  </thead>\n",
       "  <tbody>\n",
       "    <tr>\n",
       "      <th>0</th>\n",
       "      <td>08</td>\n",
       "      <td>E1</td>\n",
       "      <td>560.95</td>\n",
       "    </tr>\n",
       "    <tr>\n",
       "      <th>1</th>\n",
       "      <td>08</td>\n",
       "      <td>E1</td>\n",
       "      <td>349.38</td>\n",
       "    </tr>\n",
       "    <tr>\n",
       "      <th>2</th>\n",
       "      <td>08</td>\n",
       "      <td>E1</td>\n",
       "      <td>886.94</td>\n",
       "    </tr>\n",
       "    <tr>\n",
       "      <th>3</th>\n",
       "      <td>08</td>\n",
       "      <td>E1</td>\n",
       "      <td>736.57</td>\n",
       "    </tr>\n",
       "    <tr>\n",
       "      <th>4</th>\n",
       "      <td>08</td>\n",
       "      <td>E1</td>\n",
       "      <td>1094.99</td>\n",
       "    </tr>\n",
       "  </tbody>\n",
       "</table>\n",
       "</div>"
      ],
      "text/plain": [
       "  Name Location  Diameter\n",
       "0   08       E1    560.95\n",
       "1   08       E1    349.38\n",
       "2   08       E1    886.94\n",
       "3   08       E1    736.57\n",
       "4   08       E1   1094.99"
      ]
     },
     "execution_count": 34,
     "metadata": {},
     "output_type": "execute_result"
    }
   ],
   "source": [
    "PCL_Thomas_mf=pd.melt(PCL_Thomas,value_vars=['E1', 'E2', 'NE', 'SE', 'W1', 'W2']).round(2)\n",
    "PCL_Thomas_mf.rename(columns={\"variable\" : \"Location\",\"value\":\"Diameter\"},inplace=True)\n",
    "PCL_Thomas_mf.insert(0, 'Name', '08')\n",
    "PCL_Thomas_mf=PCL_Thomas_mf.dropna(axis=0)\n",
    "PCL_Thomas_mf.head()"
   ]
  },
  {
   "cell_type": "code",
   "execution_count": 35,
   "metadata": {},
   "outputs": [
    {
     "data": {
      "text/html": [
       "<div>\n",
       "<style scoped>\n",
       "    .dataframe tbody tr th:only-of-type {\n",
       "        vertical-align: middle;\n",
       "    }\n",
       "\n",
       "    .dataframe tbody tr th {\n",
       "        vertical-align: top;\n",
       "    }\n",
       "\n",
       "    .dataframe thead th {\n",
       "        text-align: right;\n",
       "    }\n",
       "</style>\n",
       "<table border=\"1\" class=\"dataframe\">\n",
       "  <thead>\n",
       "    <tr style=\"text-align: right;\">\n",
       "      <th></th>\n",
       "      <th>Name</th>\n",
       "      <th>Location</th>\n",
       "      <th>Diameter</th>\n",
       "    </tr>\n",
       "  </thead>\n",
       "  <tbody>\n",
       "    <tr>\n",
       "      <th>0</th>\n",
       "      <td>09</td>\n",
       "      <td>Central</td>\n",
       "      <td>295.84</td>\n",
       "    </tr>\n",
       "    <tr>\n",
       "      <th>1</th>\n",
       "      <td>09</td>\n",
       "      <td>Central</td>\n",
       "      <td>398.18</td>\n",
       "    </tr>\n",
       "    <tr>\n",
       "      <th>2</th>\n",
       "      <td>09</td>\n",
       "      <td>Central</td>\n",
       "      <td>303.03</td>\n",
       "    </tr>\n",
       "    <tr>\n",
       "      <th>3</th>\n",
       "      <td>09</td>\n",
       "      <td>Central</td>\n",
       "      <td>462.37</td>\n",
       "    </tr>\n",
       "    <tr>\n",
       "      <th>4</th>\n",
       "      <td>09</td>\n",
       "      <td>Central</td>\n",
       "      <td>500.01</td>\n",
       "    </tr>\n",
       "  </tbody>\n",
       "</table>\n",
       "</div>"
      ],
      "text/plain": [
       "  Name Location  Diameter\n",
       "0   09  Central    295.84\n",
       "1   09  Central    398.18\n",
       "2   09  Central    303.03\n",
       "3   09  Central    462.37\n",
       "4   09  Central    500.01"
      ]
     },
     "execution_count": 35,
     "metadata": {},
     "output_type": "execute_result"
    }
   ],
   "source": [
    "PCL_Wei_mf=pd.melt(PCL_Wei,value_vars=['Central', 'N1', 'N2', 'NW', 'S1', 'SW']).round(2)\n",
    "PCL_Wei_mf.rename(columns={\"variable\" : \"Location\",\"value\":\"Diameter\"},inplace=True)\n",
    "PCL_Wei_mf.insert(0, 'Name', '09')\n",
    "PCL_Wei_mf.head()"
   ]
  },
  {
   "cell_type": "code",
   "execution_count": 36,
   "metadata": {},
   "outputs": [
    {
     "data": {
      "text/html": [
       "<div>\n",
       "<style scoped>\n",
       "    .dataframe tbody tr th:only-of-type {\n",
       "        vertical-align: middle;\n",
       "    }\n",
       "\n",
       "    .dataframe tbody tr th {\n",
       "        vertical-align: top;\n",
       "    }\n",
       "\n",
       "    .dataframe thead th {\n",
       "        text-align: right;\n",
       "    }\n",
       "</style>\n",
       "<table border=\"1\" class=\"dataframe\">\n",
       "  <thead>\n",
       "    <tr style=\"text-align: right;\">\n",
       "      <th></th>\n",
       "      <th>Name</th>\n",
       "      <th>Location</th>\n",
       "      <th>Diameter</th>\n",
       "    </tr>\n",
       "  </thead>\n",
       "  <tbody>\n",
       "    <tr>\n",
       "      <th>0</th>\n",
       "      <td>10</td>\n",
       "      <td>E1</td>\n",
       "      <td>366.31</td>\n",
       "    </tr>\n",
       "    <tr>\n",
       "      <th>1</th>\n",
       "      <td>10</td>\n",
       "      <td>E1</td>\n",
       "      <td>444.22</td>\n",
       "    </tr>\n",
       "    <tr>\n",
       "      <th>2</th>\n",
       "      <td>10</td>\n",
       "      <td>E1</td>\n",
       "      <td>238.39</td>\n",
       "    </tr>\n",
       "    <tr>\n",
       "      <th>3</th>\n",
       "      <td>10</td>\n",
       "      <td>E1</td>\n",
       "      <td>282.35</td>\n",
       "    </tr>\n",
       "    <tr>\n",
       "      <th>4</th>\n",
       "      <td>10</td>\n",
       "      <td>E1</td>\n",
       "      <td>328.84</td>\n",
       "    </tr>\n",
       "  </tbody>\n",
       "</table>\n",
       "</div>"
      ],
      "text/plain": [
       "  Name Location  Diameter\n",
       "0   10       E1    366.31\n",
       "1   10       E1    444.22\n",
       "2   10       E1    238.39\n",
       "3   10       E1    282.35\n",
       "4   10       E1    328.84"
      ]
     },
     "execution_count": 36,
     "metadata": {},
     "output_type": "execute_result"
    }
   ],
   "source": [
    "PCL_Weiw_mf=pd.melt(PCL_Weiw,value_vars=['E1', 'E2', 'NE', 'SE', 'SW', 'W1']).round(2)\n",
    "PCL_Weiw_mf.rename(columns={\"variable\" : \"Location\",\"value\":\"Diameter\"},inplace=True)\n",
    "PCL_Weiw_mf.insert(0, 'Name', '10')\n",
    "PCL_Weiw_mf.head()"
   ]
  },
  {
   "cell_type": "code",
   "execution_count": 37,
   "metadata": {},
   "outputs": [
    {
     "data": {
      "text/html": [
       "<div>\n",
       "<style scoped>\n",
       "    .dataframe tbody tr th:only-of-type {\n",
       "        vertical-align: middle;\n",
       "    }\n",
       "\n",
       "    .dataframe tbody tr th {\n",
       "        vertical-align: top;\n",
       "    }\n",
       "\n",
       "    .dataframe thead th {\n",
       "        text-align: right;\n",
       "    }\n",
       "</style>\n",
       "<table border=\"1\" class=\"dataframe\">\n",
       "  <thead>\n",
       "    <tr style=\"text-align: right;\">\n",
       "      <th></th>\n",
       "      <th>Name</th>\n",
       "      <th>Location</th>\n",
       "      <th>Diameter</th>\n",
       "    </tr>\n",
       "  </thead>\n",
       "  <tbody>\n",
       "    <tr>\n",
       "      <th>0</th>\n",
       "      <td>11</td>\n",
       "      <td>Central</td>\n",
       "      <td>455.49</td>\n",
       "    </tr>\n",
       "    <tr>\n",
       "      <th>1</th>\n",
       "      <td>11</td>\n",
       "      <td>Central</td>\n",
       "      <td>499.76</td>\n",
       "    </tr>\n",
       "    <tr>\n",
       "      <th>2</th>\n",
       "      <td>11</td>\n",
       "      <td>Central</td>\n",
       "      <td>568.48</td>\n",
       "    </tr>\n",
       "    <tr>\n",
       "      <th>3</th>\n",
       "      <td>11</td>\n",
       "      <td>Central</td>\n",
       "      <td>819.20</td>\n",
       "    </tr>\n",
       "    <tr>\n",
       "      <th>4</th>\n",
       "      <td>11</td>\n",
       "      <td>Central</td>\n",
       "      <td>322.08</td>\n",
       "    </tr>\n",
       "  </tbody>\n",
       "</table>\n",
       "</div>"
      ],
      "text/plain": [
       "  Name Location  Diameter\n",
       "0   11  Central    455.49\n",
       "1   11  Central    499.76\n",
       "2   11  Central    568.48\n",
       "3   11  Central    819.20\n",
       "4   11  Central    322.08"
      ]
     },
     "execution_count": 37,
     "metadata": {},
     "output_type": "execute_result"
    }
   ],
   "source": [
    "PCL_Xinyue_mf=pd.melt(PCL_Xinyue,value_vars=['Central', 'E1', 'S1', 'W1', 'W2']).round(2)\n",
    "PCL_Xinyue_mf.rename(columns={\"variable\" : \"Location\",\"value\":\"Diameter\"},inplace=True)\n",
    "PCL_Xinyue_mf.insert(0, 'Name', '11')\n",
    "PCL_Xinyue_mf.head()"
   ]
  },
  {
   "cell_type": "code",
   "execution_count": 38,
   "metadata": {},
   "outputs": [
    {
     "data": {
      "text/html": [
       "<div>\n",
       "<style scoped>\n",
       "    .dataframe tbody tr th:only-of-type {\n",
       "        vertical-align: middle;\n",
       "    }\n",
       "\n",
       "    .dataframe tbody tr th {\n",
       "        vertical-align: top;\n",
       "    }\n",
       "\n",
       "    .dataframe thead th {\n",
       "        text-align: right;\n",
       "    }\n",
       "</style>\n",
       "<table border=\"1\" class=\"dataframe\">\n",
       "  <thead>\n",
       "    <tr style=\"text-align: right;\">\n",
       "      <th></th>\n",
       "      <th>Name</th>\n",
       "      <th>Location</th>\n",
       "      <th>Diameter</th>\n",
       "    </tr>\n",
       "  </thead>\n",
       "  <tbody>\n",
       "    <tr>\n",
       "      <th>0</th>\n",
       "      <td>12</td>\n",
       "      <td>N1</td>\n",
       "      <td>313.48</td>\n",
       "    </tr>\n",
       "    <tr>\n",
       "      <th>1</th>\n",
       "      <td>12</td>\n",
       "      <td>N1</td>\n",
       "      <td>689.68</td>\n",
       "    </tr>\n",
       "    <tr>\n",
       "      <th>2</th>\n",
       "      <td>12</td>\n",
       "      <td>N1</td>\n",
       "      <td>444.87</td>\n",
       "    </tr>\n",
       "    <tr>\n",
       "      <th>3</th>\n",
       "      <td>12</td>\n",
       "      <td>N1</td>\n",
       "      <td>536.01</td>\n",
       "    </tr>\n",
       "    <tr>\n",
       "      <th>4</th>\n",
       "      <td>12</td>\n",
       "      <td>N1</td>\n",
       "      <td>456.98</td>\n",
       "    </tr>\n",
       "  </tbody>\n",
       "</table>\n",
       "</div>"
      ],
      "text/plain": [
       "  Name Location  Diameter\n",
       "0   12       N1    313.48\n",
       "1   12       N1    689.68\n",
       "2   12       N1    444.87\n",
       "3   12       N1    536.01\n",
       "4   12       N1    456.98"
      ]
     },
     "execution_count": 38,
     "metadata": {},
     "output_type": "execute_result"
    }
   ],
   "source": [
    "PCL_Yavuz_mf=pd.melt(PCL_Yavuz,value_vars=['N1', 'N2', 'NE', 'NW', 'SE', 'SW']).round(2)\n",
    "PCL_Yavuz_mf.rename(columns={\"variable\" : \"Location\",\"value\":\"Diameter\"},inplace=True)\n",
    "PCL_Yavuz_mf.insert(0, 'Name', '12')\n",
    "PCL_Yavuz_mf.head()"
   ]
  },
  {
   "cell_type": "code",
   "execution_count": 39,
   "metadata": {},
   "outputs": [
    {
     "data": {
      "text/html": [
       "<div>\n",
       "<style scoped>\n",
       "    .dataframe tbody tr th:only-of-type {\n",
       "        vertical-align: middle;\n",
       "    }\n",
       "\n",
       "    .dataframe tbody tr th {\n",
       "        vertical-align: top;\n",
       "    }\n",
       "\n",
       "    .dataframe thead th {\n",
       "        text-align: right;\n",
       "    }\n",
       "</style>\n",
       "<table border=\"1\" class=\"dataframe\">\n",
       "  <thead>\n",
       "    <tr style=\"text-align: right;\">\n",
       "      <th></th>\n",
       "      <th>Name</th>\n",
       "      <th>Location</th>\n",
       "      <th>Diameter</th>\n",
       "    </tr>\n",
       "  </thead>\n",
       "  <tbody>\n",
       "    <tr>\n",
       "      <th>0</th>\n",
       "      <td>13</td>\n",
       "      <td>Central</td>\n",
       "      <td>650.0</td>\n",
       "    </tr>\n",
       "    <tr>\n",
       "      <th>1</th>\n",
       "      <td>13</td>\n",
       "      <td>Central</td>\n",
       "      <td>734.0</td>\n",
       "    </tr>\n",
       "    <tr>\n",
       "      <th>2</th>\n",
       "      <td>13</td>\n",
       "      <td>Central</td>\n",
       "      <td>460.0</td>\n",
       "    </tr>\n",
       "    <tr>\n",
       "      <th>3</th>\n",
       "      <td>13</td>\n",
       "      <td>Central</td>\n",
       "      <td>521.0</td>\n",
       "    </tr>\n",
       "    <tr>\n",
       "      <th>4</th>\n",
       "      <td>13</td>\n",
       "      <td>Central</td>\n",
       "      <td>537.0</td>\n",
       "    </tr>\n",
       "  </tbody>\n",
       "</table>\n",
       "</div>"
      ],
      "text/plain": [
       "  Name Location  Diameter\n",
       "0   13  Central     650.0\n",
       "1   13  Central     734.0\n",
       "2   13  Central     460.0\n",
       "3   13  Central     521.0\n",
       "4   13  Central     537.0"
      ]
     },
     "execution_count": 39,
     "metadata": {},
     "output_type": "execute_result"
    }
   ],
   "source": [
    "PCL_Ying_mf=pd.melt(PCL_Ying,value_vars=['Central', 'N1', 'N2', 'S2', 'S1', 'W2']).round()\n",
    "PCL_Ying_mf.rename(columns={\"variable\" : \"Location\",\"value\":\"Diameter\"},inplace=True)\n",
    "PCL_Ying_mf.insert(0, 'Name', '13')\n",
    "PCL_Ying_mf.head()"
   ]
  },
  {
   "cell_type": "code",
   "execution_count": 40,
   "metadata": {},
   "outputs": [
    {
     "data": {
      "text/plain": [
       "[    Name Location  Diameter\n",
       " 0     01       E2     186.0\n",
       " 1     01       E2     228.0\n",
       " 2     01       E2     216.0\n",
       " 3     01       E2     207.0\n",
       " 4     01       E2     188.0\n",
       " ..   ...      ...       ...\n",
       " 595   01       SW     492.0\n",
       " 596   01       SW     486.0\n",
       " 597   01       SW     276.0\n",
       " 598   01       SW     487.0\n",
       " 599   01       SW     645.0\n",
       " \n",
       " [600 rows x 3 columns],     Name Location  Diameter\n",
       " 0     02       E1    422.28\n",
       " 1     02       E1    320.27\n",
       " 2     02       E1    675.33\n",
       " 3     02       E1    397.25\n",
       " 4     02       E1    303.84\n",
       " ..   ...      ...       ...\n",
       " 595   02       SW    384.81\n",
       " 596   02       SW    427.27\n",
       " 597   02       SW    327.89\n",
       " 598   02       SW    180.16\n",
       " 599   02       SW    343.00\n",
       " \n",
       " [600 rows x 3 columns],     Name Location  Diameter\n",
       " 0     03       E1    233.53\n",
       " 1     03       E1    215.31\n",
       " 2     03       E1    369.25\n",
       " 3     03       E1    472.87\n",
       " 4     03       E1    266.27\n",
       " ..   ...      ...       ...\n",
       " 684   03       W2    209.42\n",
       " 685   03       W2    390.95\n",
       " 686   03       W2    171.76\n",
       " 687   03       W2    157.07\n",
       " 688   03       W2   1193.90\n",
       " \n",
       " [644 rows x 3 columns],     Name Location  Diameter\n",
       " 0     04       E1     454.0\n",
       " 1     04       E1     462.0\n",
       " 2     04       E1     401.0\n",
       " 3     04       E1     254.0\n",
       " 4     04       E1     580.0\n",
       " ..   ...      ...       ...\n",
       " 611   04       W2     604.0\n",
       " 612   04       W2     463.0\n",
       " 613   04       W2     560.0\n",
       " 614   04       W2     472.0\n",
       " 615   04       W2     499.0\n",
       " \n",
       " [607 rows x 3 columns],     Name Location  Diameter\n",
       " 0     05  Central   1255.66\n",
       " 1     05  Central    423.73\n",
       " 2     05  Central    272.66\n",
       " 3     05  Central    398.13\n",
       " 4     05  Central    320.00\n",
       " ..   ...      ...       ...\n",
       " 864   05       SW    256.66\n",
       " 865   05       SW    481.09\n",
       " 866   05       SW    362.97\n",
       " 867   05       SW    227.22\n",
       " 868   05       SW    337.55\n",
       " \n",
       " [830 rows x 3 columns],     Name  Location  Diameter\n",
       " 0     06  Central      343.0\n",
       " 1     06  Central      439.0\n",
       " 2     06  Central      281.0\n",
       " 3     06  Central      478.0\n",
       " 4     06  Central      397.0\n",
       " ..   ...       ...       ...\n",
       " 595   06        W2     667.0\n",
       " 596   06        W2     462.0\n",
       " 597   06        W2     452.0\n",
       " 598   06        W2     466.0\n",
       " 599   06        W2     472.0\n",
       " \n",
       " [600 rows x 3 columns],     Name Location  Diameter\n",
       " 0     07  Central     281.0\n",
       " 1     07  Central     405.0\n",
       " 2     07  Central     439.0\n",
       " 3     07  Central     342.0\n",
       " 4     07  Central     453.0\n",
       " ..   ...      ...       ...\n",
       " 595   07       S1     284.0\n",
       " 596   07       S1     315.0\n",
       " 597   07       S1     394.0\n",
       " 598   07       S1     424.0\n",
       " 599   07       S1     401.0\n",
       " \n",
       " [600 rows x 3 columns],     Name Location  Diameter\n",
       " 0     08       E1    560.95\n",
       " 1     08       E1    349.38\n",
       " 2     08       E1    886.94\n",
       " 3     08       E1    736.57\n",
       " 4     08       E1   1094.99\n",
       " ..   ...      ...       ...\n",
       " 620   08       W2    731.48\n",
       " 621   08       W2    609.57\n",
       " 622   08       W2    736.54\n",
       " 623   08       W2    603.44\n",
       " 624   08       W2    603.44\n",
       " \n",
       " [617 rows x 3 columns],     Name Location  Diameter\n",
       " 0     09  Central    295.84\n",
       " 1     09  Central    398.18\n",
       " 2     09  Central    303.03\n",
       " 3     09  Central    462.37\n",
       " 4     09  Central    500.01\n",
       " ..   ...      ...       ...\n",
       " 595   09       SW    324.09\n",
       " 596   09       SW    372.68\n",
       " 597   09       SW    429.49\n",
       " 598   09       SW    648.85\n",
       " 599   09       SW    354.78\n",
       " \n",
       " [600 rows x 3 columns],     Name Location  Diameter\n",
       " 0     10       E1    366.31\n",
       " 1     10       E1    444.22\n",
       " 2     10       E1    238.39\n",
       " 3     10       E1    282.35\n",
       " 4     10       E1    328.84\n",
       " ..   ...      ...       ...\n",
       " 595   10       W1    524.82\n",
       " 596   10       W1    245.70\n",
       " 597   10       W1    457.20\n",
       " 598   10       W1    495.23\n",
       " 599   10       W1    664.98\n",
       " \n",
       " [600 rows x 3 columns],     Name Location  Diameter\n",
       " 0     11  Central    455.49\n",
       " 1     11  Central    499.76\n",
       " 2     11  Central    568.48\n",
       " 3     11  Central    819.20\n",
       " 4     11  Central    322.08\n",
       " ..   ...      ...       ...\n",
       " 495   11       W2    459.85\n",
       " 496   11       W2    452.86\n",
       " 497   11       W2    424.67\n",
       " 498   11       W2    260.44\n",
       " 499   11       W2    446.65\n",
       " \n",
       " [500 rows x 3 columns],     Name Location  Diameter\n",
       " 0     12       N1    313.48\n",
       " 1     12       N1    689.68\n",
       " 2     12       N1    444.87\n",
       " 3     12       N1    536.01\n",
       " 4     12       N1    456.98\n",
       " ..   ...      ...       ...\n",
       " 595   12       SW    173.82\n",
       " 596   12       SW    421.57\n",
       " 597   12       SW    321.06\n",
       " 598   12       SW    339.88\n",
       " 599   12       SW    306.91\n",
       " \n",
       " [600 rows x 3 columns],     Name Location  Diameter\n",
       " 0     13  Central     650.0\n",
       " 1     13  Central     734.0\n",
       " 2     13  Central     460.0\n",
       " 3     13  Central     521.0\n",
       " 4     13  Central     537.0\n",
       " ..   ...      ...       ...\n",
       " 595   13       W2     202.0\n",
       " 596   13       W2     286.0\n",
       " 597   13       W2     256.0\n",
       " 598   13       W2     517.0\n",
       " 599   13       W2     663.0\n",
       " \n",
       " [600 rows x 3 columns]]"
      ]
     },
     "execution_count": 40,
     "metadata": {},
     "output_type": "execute_result"
    }
   ],
   "source": [
    "frames=[PCL_Bill_mf,PCL_Chenxue_mf,PCL_Ganesh_mf,PCL_Jingling_mf,PCL_Ju_mf,PCL_Ramya_mf,\n",
    "       PCL_Subramaniam_mf,PCL_Thomas_mf,PCL_Wei_mf,PCL_Weiw_mf,PCL_Xinyue_mf,PCL_Yavuz_mf,PCL_Ying_mf]\n",
    "frames"
   ]
  },
  {
   "cell_type": "markdown",
   "metadata": {},
   "source": [
    "This DataFrame provides complete dataset comprised of Locations, and analysts with their corresponding fiber diameter measurements. "
   ]
  },
  {
   "cell_type": "code",
   "execution_count": 41,
   "metadata": {},
   "outputs": [],
   "source": [
    "total_df=pd.concat(frames)"
   ]
  },
  {
   "cell_type": "markdown",
   "metadata": {},
   "source": [
    "This steps shows the columns as intended after merging the dataframes. "
   ]
  },
  {
   "cell_type": "code",
   "execution_count": 42,
   "metadata": {},
   "outputs": [
    {
     "data": {
      "text/plain": [
       "Index(['Name', 'Location', 'Diameter'], dtype='object')"
      ]
     },
     "execution_count": 42,
     "metadata": {},
     "output_type": "execute_result"
    }
   ],
   "source": [
    "total_df.columns"
   ]
  },
  {
   "cell_type": "markdown",
   "metadata": {},
   "source": [
    "This step shows the presence or absence of data in the dataframe. \n",
    "Alternatively, heatmap() can also be utilized to visualize any missing data. "
   ]
  },
  {
   "cell_type": "code",
   "execution_count": 45,
   "metadata": {},
   "outputs": [
    {
     "data": {
      "text/plain": [
       "Name        0\n",
       "Location    0\n",
       "Diameter    0\n",
       "dtype: int64"
      ]
     },
     "execution_count": 45,
     "metadata": {},
     "output_type": "execute_result"
    }
   ],
   "source": [
    "total_df.isnull().sum()"
   ]
  },
  {
   "cell_type": "code",
   "execution_count": null,
   "metadata": {},
   "outputs": [],
   "source": [
    "total_df.to_csv('total_df.csv')"
   ]
  },
  {
   "cell_type": "markdown",
   "metadata": {},
   "source": [
    "From total dataset, this step slices columns that contain Location information along with fiber diameter values reported by the analysts. \n",
    "This step provide us easier pathway to visualize and perform basic and ANOVA statistics. "
   ]
  },
  {
   "cell_type": "code",
   "execution_count": 71,
   "metadata": {},
   "outputs": [],
   "source": [
    "Consolidated_data_by_region= total_df[['Location','Diameter']]\n",
    "Consolidated_data_by_region.to_csv('Consolidated_data_by_region.csv')\n"
   ]
  },
  {
   "cell_type": "code",
   "execution_count": 85,
   "metadata": {},
   "outputs": [
    {
     "data": {
      "image/png": "[encoded data removed]",
      "text/plain": [
       "<Figure size 1152x576 with 1 Axes>"
      ]
     },
     "metadata": {
      "needs_background": "light"
     },
     "output_type": "display_data"
    }
   ],
   "source": [
    "plt.figure(figsize=(16,8))\n",
    "sns.boxplot(x='Location',y='Diameter',data=Consolidated_data_by_region,linewidth=1,showmeans=True)\n",
    "sns.color_palette(\"tab10\")\n",
    "plt.xlabel(\"Location\",fontsize=15)\n",
    "plt.ylabel('Diameter(nm)',fontsize=15)\n",
    "plt.xticks(fontsize=12)\n",
    "plt.yticks((0,200,400,600,800,1000,1200,1400,1600,1800,2000),fontsize=12)\n",
    "plt.ylim(0,2000)\n",
    "plt.title(\"Cumulative Diameter Profiles Obtained From Various Locations\", fontsize =20)\n",
    "plt.savefig('Figure-1:Cumulative Diameter Profiles Obtained From Various Locations.jpeg')"
   ]
  },
  {
   "cell_type": "markdown",
   "metadata": {},
   "source": [
    "From total dataset, this step slices columns that contain \n",
    "analyst information along with fiber diameter values reported by the analysts. \n",
    "This step provide us easier pathway to visualize and perform basic and ANOVA statistics. "
   ]
  },
  {
   "cell_type": "code",
   "execution_count": 72,
   "metadata": {},
   "outputs": [],
   "source": [
    "Consolidated_data_by_Analyst= total_df[['Name','Diameter']]\n",
    "Consolidated_data_by_Analyst.to_csv('Consolidated_data_by_Analyst.csv')"
   ]
  },
  {
   "cell_type": "code",
   "execution_count": 82,
   "metadata": {},
   "outputs": [
    {
     "data": {
      "image/png": "[encoded data removed]",
      "text/plain": [
       "<Figure size 1152x576 with 1 Axes>"
      ]
     },
     "metadata": {
      "needs_background": "light"
     },
     "output_type": "display_data"
    }
   ],
   "source": [
    "plt.figure(figsize=(16,8))\n",
    "sns.boxplot(x='Name',y='Diameter',data=Consolidated_data_by_Analyst,linewidth=0.4,showmeans = True)\n",
    "sns.color_palette(\"tab10\")\n",
    "plt.xlabel(\"Analyst\",fontsize=15)\n",
    "plt.ylabel('Diameter(nm)',fontsize=15)\n",
    "plt.xticks((1,2,3,4,5,6,7,8,9,10,11,12,13),fontsize=12)\n",
    "plt.yticks(fontsize=12)\n",
    "plt.ylim(0,2000)\n",
    "plt.title('Cumulative Diameter Profiles Reported by the Analysts', fontsize =20)\n",
    "plt.savefig('Figure-2:Cumulative Diameter Profiles Reported by the Analysts.jpeg')"
   ]
  },
  {
   "cell_type": "markdown",
   "metadata": {},
   "source": [
    "Ordinary Least Squares (OLS) Model"
   ]
  },
  {
   "cell_type": "code",
   "execution_count": 78,
   "metadata": {},
   "outputs": [],
   "source": [
    "model = ols('Diameter ~ C(Name)', data=Consolidated_data_by_Analyst).fit()\n",
    "anova_table = sm.stats.anova_lm(model, typ=3).round(8)\n",
    "anova_table.to_csv('Table-1:ANOVA_Table.csv')\n"
   ]
  },
  {
   "cell_type": "markdown",
   "metadata": {},
   "source": [
    " p << 0.05 clearly indicate there are significant differences among treatments.\n",
    "    \n",
    "One way ANOVA clearly indicate significant differences among analysts. But doesnt indicate which analysts measure significantly different than the others. \n",
    "\n",
    "Tukey-Honestly significant different test perform multiple pairwise comparison (post hoc comparison) analysis therby pinpointing which analysts measure differently. "
   ]
  },
  {
   "cell_type": "code",
   "execution_count": 73,
   "metadata": {},
   "outputs": [
    {
     "name": "stderr",
     "output_type": "stream",
     "text": [
      "/Users/ganeshnarayanan/opt/anaconda3/lib/python3.7/site-packages/statsmodels/base/model.py:1752: ValueWarning: covariance of constraints does not have full rank. The number of constraints is 156, but rank is 66\n",
      "  'rank is %d' % (J, J_), ValueWarning)\n",
      "/Users/ganeshnarayanan/opt/anaconda3/lib/python3.7/site-packages/statsmodels/base/model.py:1752: ValueWarning: covariance of constraints does not have full rank. The number of constraints is 12, but rank is 6\n",
      "  'rank is %d' % (J, J_), ValueWarning)\n",
      "/Users/ganeshnarayanan/opt/anaconda3/lib/python3.7/site-packages/statsmodels/base/model.py:1752: ValueWarning: covariance of constraints does not have full rank. The number of constraints is 13, but rank is 6\n",
      "  'rank is %d' % (J, J_), ValueWarning)\n",
      "/Users/ganeshnarayanan/opt/anaconda3/lib/python3.7/site-packages/statsmodels/base/model.py:1752: ValueWarning: covariance of constraints does not have full rank. The number of constraints is 156, but rank is 66\n",
      "  'rank is %d' % (J, J_), ValueWarning)\n"
     ]
    }
   ],
   "source": [
    "import statsmodels.api as sm\n",
    "from statsmodels.formula.api import ols\n",
    "\n",
    "model = ols('Diameter ~ C(Name) + C(Location) + C(Name):C(Location)', data=total_df).fit()\n",
    "anova_table = sm.stats.anova_lm(model, typ=3)\n",
    "anova_table\n",
    "\n",
    "from bioinfokit.analys import stat\n",
    "res = stat()\n",
    "res.anova_stat(df=total_df, res_var='Diameter', anova_model='Diameter~C(Name)+C(Location)+C(Name):C(Location)')\n",
    "res.anova_summary.round(8)\n",
    "res.anova_summary.to_csv('Table-2:ANOVA_summary_Interaction_between_factors.csv')"
   ]
  },
  {
   "cell_type": "code",
   "execution_count": 76,
   "metadata": {},
   "outputs": [
    {
     "name": "stdout",
     "output_type": "stream",
     "text": [
      "   group1 group2      Diff     Lower     Upper  q-value  p-value\n",
      "0      01     02   45.2972   14.7491   75.8452   6.9493   0.0010\n",
      "1      01     03   38.9570    8.9353   68.9787   6.0814   0.0012\n",
      "2      01     04  136.1843  105.7245  166.6442  20.9532   0.0010\n",
      "3      01     05   38.7552   10.4023   67.1081   6.4059   0.0010\n",
      "4      01     06   25.2300   -5.3180   55.7780   3.8707   0.2333\n",
      "..    ...    ...       ...       ...       ...      ...      ...\n",
      "73     10     12   21.0416   -9.5065   51.5896   3.2281   0.5257\n",
      "74     10     13    1.2967  -29.2513   31.8448   0.1989   0.9000\n",
      "75     11     12    1.6885  -30.3505   33.7276   0.2470   0.9000\n",
      "76     11     13   20.6497  -11.3893   52.6888   3.0205   0.6187\n",
      "77     12     13   22.3383   -8.2097   52.8863   3.4270   0.4316\n",
      "\n",
      "[78 rows x 7 columns]\n"
     ]
    }
   ],
   "source": [
    "from bioinfokit.analys import stat\n",
    "\n",
    "res = stat()\n",
    "res.tukey_hsd(df=Consolidated_data_by_Analyst, res_var='Diameter', xfac_var='Name', anova_model='Diameter ~ C(Name)')\n",
    "Two_Way_Tukey_Summary= res.tukey_summary.round(4)\n",
    "print(Two_Way_Tukey_Summary)\n",
    "Two_Way_Tukey_Summary.to_csv('Table-3:Two-Way_Tukey_Summary.csv')"
   ]
  },
  {
   "cell_type": "code",
   "execution_count": 64,
   "metadata": {},
   "outputs": [
    {
     "data": {
      "image/png": "[encoded data removed]",
      "text/plain": [
       "<Figure size 1440x576 with 1 Axes>"
      ]
     },
     "metadata": {
      "needs_background": "light"
     },
     "output_type": "display_data"
    }
   ],
   "source": [
    "from statsmodels.graphics.factorplots import interaction_plot\n",
    "import matplotlib.pyplot as plt\n",
    "fig,ax = plt.subplots(figsize=(20, 8))\n",
    "fig = interaction_plot(x=total_df['Name'], trace=total_df['Location'], response=total_df['Diameter'],ax=ax)\n",
    "plt.ylim(top=700,bottom=250)\n",
    "plt.xlabel(\"Analyst\",fontsize=15)\n",
    "plt.ylabel('Diameter(nm)',fontsize=15)\n",
    "plt.xticks(fontsize=16)\n",
    "plt.yticks(fontsize=16)\n",
    "plt.legend(fontsize=16)\n",
    "plt.tight_layout()\n",
    "\n",
    "\n",
    "\n"
   ]
  },
  {
   "cell_type": "markdown",
   "metadata": {},
   "source": [
    "Overlap indicate significant interaction between the Analyst and Location because the lines are not parallel. \n",
    "For more reliable conclusion of the interaction plot, it should be verified with the F test for interaction"
   ]
  },
  {
   "cell_type": "markdown",
   "metadata": {},
   "source": [
    "From the interaction plot above, it is clear there is significant interactions between Analyst and Location. \n",
    "To delve deep into those interactions, Tukey HSD was utilized and the results are summarized below: "
   ]
  },
  {
   "cell_type": "code",
   "execution_count": 69,
   "metadata": {},
   "outputs": [
    {
     "name": "stderr",
     "output_type": "stream",
     "text": [
      "/Users/ganeshnarayanan/opt/anaconda3/lib/python3.7/site-packages/statsmodels/base/model.py:1752: ValueWarning: covariance of constraints does not have full rank. The number of constraints is 12, but rank is 6\n",
      "  'rank is %d' % (J, J_), ValueWarning)\n",
      "/Users/ganeshnarayanan/opt/anaconda3/lib/python3.7/site-packages/statsmodels/base/model.py:1752: ValueWarning: covariance of constraints does not have full rank. The number of constraints is 13, but rank is 6\n",
      "  'rank is %d' % (J, J_), ValueWarning)\n",
      "/Users/ganeshnarayanan/opt/anaconda3/lib/python3.7/site-packages/statsmodels/base/model.py:1752: ValueWarning: covariance of constraints does not have full rank. The number of constraints is 156, but rank is 66\n",
      "  'rank is %d' % (J, J_), ValueWarning)\n"
     ]
    },
    {
     "name": "stdout",
     "output_type": "stream",
     "text": [
      "   group1 group2        Diff       Lower       Upper    q-value   p-value\n",
      "0      01     02   45.297167   15.428577   75.165756   7.107345  0.001000\n",
      "1      01     03   38.956998    9.603020   68.310976   6.219702  0.001000\n",
      "2      01     04  136.184330  106.401977  165.966683  21.429855  0.001000\n",
      "3      01     05   38.755189   11.032925   66.477452   6.551674  0.001000\n",
      "4      01     06   25.230000   -4.638589   55.098589   3.958710  0.202544\n",
      "..    ...    ...         ...         ...         ...        ...       ...\n",
      "73     10     12   21.041550   -8.827039   50.910139   3.301521  0.492569\n",
      "74     10     13    1.296733  -28.571856   31.165323   0.203464  0.900000\n",
      "75     11     12    1.688550  -29.637891   33.014991   0.252612  0.900000\n",
      "76     11     13   20.649733  -10.676707   51.976174   3.089260  0.587874\n",
      "77     12     13   22.338283   -7.530306   52.206873   3.504985  0.392284\n",
      "\n",
      "[78 rows x 7 columns]\n"
     ]
    }
   ],
   "source": [
    "from bioinfokit.analys import stat\n",
    "res = stat()\n",
    "\n",
    "res.tukey_hsd(df=total_df, res_var='Diameter', xfac_var='Name', anova_model='Diameter~C(Name)+C(Location)+C(Name):C(Location)')\n",
    "Tukey_Multiinteraction_Summary=res.tukey_summary\n",
    "print(Tukey_Multiinteraction_Summary)\n",
    "Tukey_Multiinteraction_Summary.to_csv('Table-4:Tukey Summary-Interaction Between Region and Analyst.csv')"
   ]
  },
  {
   "cell_type": "markdown",
   "metadata": {},
   "source": [
    "Conclusion: In the comprative interactions, we can accept combinations with p value <0.05 to be significant, and therefore conclude that the treatments have significant variations between them. This translates to ~ about 60+ studied interactions that show such interactions. "
   ]
  },
  {
   "cell_type": "markdown",
   "metadata": {},
   "source": []
  }
 ],
 "metadata": {
  "kernelspec": {
   "display_name": "Python 3",
   "language": "python",
   "name": "python3"
  },
  "language_info": {
   "codemirror_mode": {
    "name": "ipython",
    "version": 3
   },
   "file_extension": ".py",
   "mimetype": "text/x-python",
   "name": "python",
   "nbconvert_exporter": "python",
   "pygments_lexer": "ipython3",
   "version": "3.7.4"
  }
 },
 "nbformat": 4,
 "nbformat_minor": 4
}
